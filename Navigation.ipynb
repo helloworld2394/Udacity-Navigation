{
 "cells": [
  {
   "cell_type": "markdown",
   "metadata": {},
   "source": [
    "# Navigation\n",
    "\n",
    "---\n",
    "\n",
    "In this notebook, you will learn how to use the Unity ML-Agents environment for the first project of the [Deep Reinforcement Learning Nanodegree](https://www.udacity.com/course/deep-reinforcement-learning-nanodegree--nd893).\n",
    "\n",
    "### 1. Start the Environment\n",
    "\n",
    "We begin by importing some necessary packages.  If the code cell below returns an error, please revisit the project instructions to double-check that you have installed [Unity ML-Agents](https://github.com/Unity-Technologies/ml-agents/blob/master/docs/Installation.md) and [NumPy](http://www.numpy.org/)."
   ]
  },
  {
   "cell_type": "code",
   "execution_count": 1,
   "metadata": {},
   "outputs": [],
   "source": [
    "from unityagents import UnityEnvironment\n",
    "import numpy as np"
   ]
  },
  {
   "cell_type": "markdown",
   "metadata": {},
   "source": [
    "Next, we will start the environment!  **_Before running the code cell below_**, change the `file_name` parameter to match the location of the Unity environment that you downloaded.\n",
    "\n",
    "- **Mac**: `\"path/to/Banana.app\"`\n",
    "- **Windows** (x86): `\"path/to/Banana_Windows_x86/Banana.exe\"`\n",
    "- **Windows** (x86_64): `\"path/to/Banana_Windows_x86_64/Banana.exe\"`\n",
    "- **Linux** (x86): `\"path/to/Banana_Linux/Banana.x86\"`\n",
    "- **Linux** (x86_64): `\"path/to/Banana_Linux/Banana.x86_64\"`\n",
    "- **Linux** (x86, headless): `\"path/to/Banana_Linux_NoVis/Banana.x86\"`\n",
    "- **Linux** (x86_64, headless): `\"path/to/Banana_Linux_NoVis/Banana.x86_64\"`\n",
    "\n",
    "For instance, if you are using a Mac, then you downloaded `Banana.app`.  If this file is in the same folder as the notebook, then the line below should appear as follows:\n",
    "```\n",
    "env = UnityEnvironment(file_name=\"Banana.app\")\n",
    "```"
   ]
  },
  {
   "cell_type": "code",
   "execution_count": 2,
   "metadata": {},
   "outputs": [
    {
     "name": "stderr",
     "output_type": "stream",
     "text": [
      "INFO:unityagents:\n",
      "'Academy' started successfully!\n",
      "Unity Academy name: Academy\n",
      "        Number of Brains: 1\n",
      "        Number of External Brains : 1\n",
      "        Lesson number : 0\n",
      "        Reset Parameters :\n",
      "\t\t\n",
      "Unity brain name: BananaBrain\n",
      "        Number of Visual Observations (per agent): 0\n",
      "        Vector Observation space type: continuous\n",
      "        Vector Observation space size (per agent): 37\n",
      "        Number of stacked Vector Observation: 1\n",
      "        Vector Action space type: discrete\n",
      "        Vector Action space size (per agent): 4\n",
      "        Vector Action descriptions: , , , \n"
     ]
    }
   ],
   "source": [
    "env = UnityEnvironment(file_name=\"Banana_Windows_x86_64\\\\Banana.exe\")"
   ]
  },
  {
   "cell_type": "markdown",
   "metadata": {},
   "source": [
    "Environments contain **_brains_** which are responsible for deciding the actions of their associated agents. Here we check for the first brain available, and set it as the default brain we will be controlling from Python."
   ]
  },
  {
   "cell_type": "code",
   "execution_count": 3,
   "metadata": {},
   "outputs": [],
   "source": [
    "# get the default brain\n",
    "brain_name = env.brain_names[0]\n",
    "brain = env.brains[brain_name]"
   ]
  },
  {
   "cell_type": "markdown",
   "metadata": {},
   "source": [
    "### 2. Examine the State and Action Spaces\n",
    "\n",
    "The simulation contains a single agent that navigates a large environment.  At each time step, it has four actions at its disposal:\n",
    "- `0` - walk forward \n",
    "- `1` - walk backward\n",
    "- `2` - turn left\n",
    "- `3` - turn right\n",
    "\n",
    "The state space has `37` dimensions and contains the agent's velocity, along with ray-based perception of objects around agent's forward direction.  A reward of `+1` is provided for collecting a yellow banana, and a reward of `-1` is provided for collecting a blue banana. \n",
    "\n",
    "Run the code cell below to print some information about the environment."
   ]
  },
  {
   "cell_type": "code",
   "execution_count": 4,
   "metadata": {},
   "outputs": [
    {
     "name": "stdout",
     "output_type": "stream",
     "text": [
      "Number of agents: 1\n",
      "Number of actions: 4\n",
      "States look like: [1.         0.         0.         0.         0.84408134 0.\n",
      " 0.         1.         0.         0.0748472  0.         1.\n",
      " 0.         0.         0.25755    1.         0.         0.\n",
      " 0.         0.74177343 0.         1.         0.         0.\n",
      " 0.25854847 0.         0.         1.         0.         0.09355672\n",
      " 0.         1.         0.         0.         0.31969345 0.\n",
      " 0.        ]\n",
      "States have length: 37\n"
     ]
    }
   ],
   "source": [
    "# reset the environment\n",
    "env_info = env.reset(train_mode=True)[brain_name]\n",
    "\n",
    "# number of agents in the environment\n",
    "print('Number of agents:', len(env_info.agents))\n",
    "\n",
    "# number of actions\n",
    "action_size = brain.vector_action_space_size\n",
    "print('Number of actions:', action_size)\n",
    "\n",
    "# examine the state space \n",
    "state = env_info.vector_observations[0]\n",
    "print('States look like:', state)\n",
    "state_size = len(state)\n",
    "print('States have length:', state_size)"
   ]
  },
  {
   "cell_type": "markdown",
   "metadata": {},
   "source": [
    "### 3. Take Random Actions in the Environment\n",
    "\n",
    "In the next code cell, you will learn how to use the Python API to control the agent and receive feedback from the environment.\n",
    "\n",
    "Once this cell is executed, you will watch the agent's performance, if it selects an action (uniformly) at random with each time step.  A window should pop up that allows you to observe the agent, as it moves through the environment.  \n",
    "\n",
    "Of course, as part of the project, you'll have to change the code so that the agent is able to use its experience to gradually choose better actions when interacting with the environment!"
   ]
  },
  {
   "cell_type": "code",
   "execution_count": 5,
   "metadata": {},
   "outputs": [
    {
     "name": "stdout",
     "output_type": "stream",
     "text": [
      "Score: 0.0\n"
     ]
    }
   ],
   "source": [
    "env_info = env.reset(train_mode=False)[brain_name] # reset the environment\n",
    "state = env_info.vector_observations[0]            # get the current state\n",
    "score = 0                                          # initialize the score\n",
    "while True:\n",
    "    action = np.random.randint(action_size)        # select an action\n",
    "    env_info = env.step(action)[brain_name]        # send the action to the environment\n",
    "    next_state = env_info.vector_observations[0]   # get the next state\n",
    "    reward = env_info.rewards[0]                   # get the reward\n",
    "    done = env_info.local_done[0]                  # see if episode has finished\n",
    "    score += reward                                # update the score\n",
    "    state = next_state                             # roll over the state to next time step\n",
    "    if done:                                       # exit loop if episode finished\n",
    "        break\n",
    "    \n",
    "print(\"Score: {}\".format(score))"
   ]
  },
  {
   "cell_type": "markdown",
   "metadata": {},
   "source": [
    "When finished, you can close the environment."
   ]
  },
  {
   "cell_type": "code",
   "execution_count": 6,
   "metadata": {},
   "outputs": [],
   "source": [
    "env.close()"
   ]
  },
  {
   "cell_type": "markdown",
   "metadata": {},
   "source": [
    "### 4. It's Your Turn!\n",
    "\n",
    "Now it's your turn to train your own agent to solve the environment!  When training the environment, set `train_mode=True`, so that the line for resetting the environment looks like the following:\n",
    "```python\n",
    "env_info = env.reset(train_mode=True)[brain_name]\n",
    "```"
   ]
  },
  {
   "cell_type": "markdown",
   "metadata": {},
   "source": [
    "<a id=\"dqn\"></a>\n",
    "***************\n",
    "#### 4-1. Definite a DQN architecture"
   ]
  },
  {
   "cell_type": "code",
   "execution_count": 1,
   "metadata": {},
   "outputs": [],
   "source": [
    "%matplotlib inline\n",
    "import torch\n",
    "import random\n",
    "import collections\n",
    "import pickle\n",
    "from unityagents import UnityEnvironment\n",
    "import numpy as np\n",
    "import matplotlib.pyplot as plt"
   ]
  },
  {
   "cell_type": "code",
   "execution_count": 2,
   "metadata": {},
   "outputs": [],
   "source": [
    "class DQNAgent:\n",
    "    def __init__(self, state_size, action_size, build_network, lr=0.001, discount_factor=.99,\n",
    "                 replay_mem_size=2500, batch_size=32, smooth_update_tau=0.001):\n",
    "        \n",
    "        torch.set_default_tensor_type('torch.cuda.FloatTensor')\n",
    "        torch.cuda.set_device(0)\n",
    "        \n",
    "        self.state_size = state_size\n",
    "        self.action_size = action_size\n",
    "        self.lr = lr\n",
    "        self.batch_size = batch_size\n",
    "        self.tau = smooth_update_tau\n",
    "        self.discount_factor = discount_factor\n",
    "        self.replay_memory = collections.deque(maxlen=replay_mem_size)\n",
    "        self.runner_network = build_network.cuda()\n",
    "        self.target_network = build_network.cuda()\n",
    "\n",
    "        self.runner_optimizer = torch.optim.Adam(self.runner_network.parameters(), lr=self.lr)\n",
    "        \n",
    "        self.update_target_network()\n",
    "\n",
    "    def update_target_network(self):\n",
    "        self.target_network.load_state_dict(self.runner_network.state_dict())\n",
    "    \n",
    "    def update_target_network_smooth(self):\n",
    "        # refer to https://github.com/udacity/deep-reinforcement-learning/blob/master/dqn/solution/dqn_agent.py\n",
    "        for target, runner in zip(self.target_network.parameters(), self.runner_network.parameters()):\n",
    "            target.data.copy_(self.tau * runner.data + (1 - self.tau) * target.data)\n",
    "    \n",
    "    def optimize(self, x, y):\n",
    "        loss_func = torch.nn.SmoothL1Loss() # Huber loss\n",
    "        #loss_func = torch.nn.MSELoss()\n",
    "        loss = loss_func(x, y)\n",
    "        self.runner_optimizer.zero_grad()\n",
    "        loss.backward()\n",
    "        self.runner_optimizer.step()\n",
    "    \n",
    "    def get_action(self, state):\n",
    "        return np.argmax(self.runner_network(torch.tensor(state, requires_grad=False, dtype=torch.float32)).cpu().detach().numpy())\n",
    "    \n",
    "    def max_q(self, state):\n",
    "        return np.max(self.runner_network(torch.tensor(state, requires_grad=False, dtype=torch.float32)).cpu().detach().numpy())\n",
    "        \n",
    "    \n",
    "    def append_replay_memory(self, state, action, reward, next_state, done):\n",
    "        self.replay_memory.append([state, action, reward, next_state, done])\n",
    "    \n",
    "    def get_batch(self):\n",
    "        batch = random.sample(self.replay_memory, self.batch_size)\n",
    "        state, next_state = np.empty([self.batch_size, self.state_size*4]), np.empty([self.batch_size, self.state_size*4])\n",
    "        action, reward, done = [], [], []\n",
    "        \n",
    "        for i in range(self.batch_size):\n",
    "            state[i] = batch[i][0]\n",
    "            action.append(batch[i][1])\n",
    "            reward.append(batch[i][2])\n",
    "            next_state[i] = batch[i][3]\n",
    "            done.append(batch[i][4])\n",
    "        return state, action, reward, next_state, done\n",
    "    \n",
    "    def train(self):\n",
    "        s, a, r, s_n, d = self.get_batch()\n",
    "        tensor_s = torch.tensor(s, requires_grad=False, dtype=torch.float32)\n",
    "        tensor_s_n = torch.tensor(s_n, requires_grad=False, dtype=torch.float32)\n",
    "        target_q = self.target_network(tensor_s_n).cpu()\n",
    "        runner_q = self.runner_network(tensor_s).cpu()\n",
    "        \n",
    "        update_target = np.empty([self.state_size, self.action_size])\n",
    "        update_target = target_q.detach().numpy()\n",
    "        \n",
    "        q = torch.tensor(target_q)\n",
    "        for i in range(self.batch_size):\n",
    "            if d[i] is True:\n",
    "                update_target[i][a[i]] = r[i]\n",
    "            else:\n",
    "                update_target[i][a[i]] = r[i] + self.discount_factor * torch.max(target_q[i])\n",
    "        \n",
    "\n",
    "        current = torch.tensor(runner_q, requires_grad=True, dtype=torch.float32)\n",
    "        target = torch.tensor(update_target, requires_grad=False, dtype=torch.float32)\n",
    "        \n",
    "        loss_func = torch.nn.SmoothL1Loss()\n",
    "        loss = loss_func(current, target)\n",
    "        self.runner_optimizer.zero_grad()\n",
    "        loss.backward()\n",
    "        self.runner_optimizer.step()\n",
    "    \n",
    "    def save_model(self, p):\n",
    "        torch.save(self.runner_network.state_dict(), p)\n",
    "    \n",
    "    def restore_model(self, p):\n",
    "        self.runner_network.load_state_dict(torch.load(p))"
   ]
  },
  {
   "cell_type": "markdown",
   "metadata": {},
   "source": [
    "### 4-2. Define a network architecture"
   ]
  },
  {
   "cell_type": "code",
   "execution_count": 3,
   "metadata": {},
   "outputs": [],
   "source": [
    "def network():\n",
    "    act = torch.nn.ReLU\n",
    "    model = torch.nn.Sequential(torch.nn.Linear(37*4, 64),\n",
    "                           act(),\n",
    "                           torch.nn.Linear(64, 64),\n",
    "                           act(),\n",
    "                           torch.nn.Linear(64, 4))\n",
    "    return model"
   ]
  },
  {
   "cell_type": "markdown",
   "metadata": {},
   "source": [
    "### 4-3. Build the agent"
   ]
  },
  {
   "cell_type": "code",
   "execution_count": 4,
   "metadata": {},
   "outputs": [],
   "source": [
    "LEARNING_RATE = 5e-5\n",
    "DISCOUNT_FACTOR = 0.99\n",
    "REPLAY_MEMORY_SIZE = 15000\n",
    "BATCH_SIZE = 64\n",
    "EPSILON_LOWER_BOUND = 0.008\n",
    "EPSILON_DECAY_RATIO = 0.90\n",
    "TOTAL_EPISODES = 4000\n",
    "OBSERVATION_STEP = 100\n",
    "MODEL_UPDATE_EPISODE = 50"
   ]
  },
  {
   "cell_type": "code",
   "execution_count": 5,
   "metadata": {},
   "outputs": [],
   "source": [
    "agent = DQNAgent(state_size=37, action_size=4, build_network=network(), lr=LEARNING_RATE,\n",
    "                discount_factor=DISCOUNT_FACTOR, replay_mem_size=REPLAY_MEMORY_SIZE, batch_size=BATCH_SIZE)"
   ]
  },
  {
   "cell_type": "markdown",
   "metadata": {},
   "source": [
    "### 4-4. Train the agent"
   ]
  },
  {
   "cell_type": "code",
   "execution_count": 6,
   "metadata": {},
   "outputs": [
    {
     "name": "stderr",
     "output_type": "stream",
     "text": [
      "INFO:unityagents:\n",
      "'Academy' started successfully!\n",
      "Unity Academy name: Academy\n",
      "        Number of Brains: 1\n",
      "        Number of External Brains : 1\n",
      "        Lesson number : 0\n",
      "        Reset Parameters :\n",
      "\t\t\n",
      "Unity brain name: BananaBrain\n",
      "        Number of Visual Observations (per agent): 0\n",
      "        Vector Observation space type: continuous\n",
      "        Vector Observation space size (per agent): 37\n",
      "        Number of stacked Vector Observation: 1\n",
      "        Vector Action space type: discrete\n",
      "        Vector Action space size (per agent): 4\n",
      "        Vector Action descriptions: , , , \n"
     ]
    },
    {
     "name": "stdout",
     "output_type": "stream",
     "text": [
      "[INFO] Environment initialized.\n",
      "[Step 00000301; Episode 000000] reward: -1.0   max Q: 0.21600577  ε= 0.9998172148148251\n",
      "[Step 00012301; Episode 000040] reward: 0.0   max Q: 0.94444877  ε= 0.9887949925932235\n",
      "[Step 00024301; Episode 000080] reward: 0.0   max Q: 0.66333264  ε= 0.9777727703716218\n",
      "[Step 00036301; Episode 000120] reward: -1.0   max Q: 0.6948799  ε= 0.9667505481500202  Avg. score: -0.11\n",
      "[Step 00048301; Episode 000160] reward: 2.0   max Q: 0.7181372  ε= 0.9557283259284185  Avg. score: 0.07\n",
      "[Step 00060301; Episode 000200] reward: 1.0   max Q: 0.61221194  ε= 0.9447061037068168  Avg. score: 0.06\n",
      "[Step 00072301; Episode 000240] reward: 0.0   max Q: 0.68924487  ε= 0.9336838814852152  Avg. score: -0.07\n",
      "[Step 00084301; Episode 000280] reward: -1.0   max Q: 0.66173375  ε= 0.9226616592636135  Avg. score: 0.11\n",
      "[Step 00096301; Episode 000320] reward: -2.0   max Q: 0.63772476  ε= 0.9116394370420119  Avg. score: 0.18\n",
      "[Step 00108301; Episode 000360] reward: 1.0   max Q: 0.5879095  ε= 0.9006172148204102  Avg. score: 0.16\n",
      "[Step 00120301; Episode 000400] reward: 2.0   max Q: 0.7016697  ε= 0.8895949925988086  Avg. score: 0.27\n",
      "[Step 00132301; Episode 000440] reward: -2.0   max Q: 0.66544014  ε= 0.8785727703772069  Avg. score: 0.19\n",
      "[Step 00144301; Episode 000480] reward: 0.0   max Q: 0.52544415  ε= 0.8675505481556053  Avg. score: 0.02\n",
      "[Step 00156301; Episode 000520] reward: 0.0   max Q: 0.7591032  ε= 0.8565283259340036  Avg. score: 0.18\n",
      "[Step 00168301; Episode 000560] reward: -2.0   max Q: 0.76825726  ε= 0.845506103712402  Avg. score: 0.22\n",
      "[Step 00180301; Episode 000600] reward: 0.0   max Q: 0.73542315  ε= 0.8344838814908003  Avg. score: 0.23\n",
      "[Step 00192301; Episode 000640] reward: -2.0   max Q: 0.93827033  ε= 0.8234616592691987  Avg. score: 0.2\n",
      "[Step 00204301; Episode 000680] reward: 1.0   max Q: 0.81207085  ε= 0.812439437047597  Avg. score: 0.27\n",
      "[Step 00216301; Episode 000720] reward: 0.0   max Q: 0.6354707  ε= 0.8014172148259954  Avg. score: 0.24\n",
      "[Step 00228301; Episode 000760] reward: 2.0   max Q: 0.49863046  ε= 0.7903949926043937  Avg. score: 0.07\n",
      "[Step 00240301; Episode 000800] reward: 1.0   max Q: 0.6793409  ε= 0.7793727703827921  Avg. score: -0.08\n",
      "[Step 00252301; Episode 000840] reward: -1.0   max Q: 0.8148734  ε= 0.7683505481611904  Avg. score: 0.09\n",
      "[Step 00264301; Episode 000880] reward: 3.0   max Q: 0.71930015  ε= 0.7573283259395888  Avg. score: 0.33\n",
      "[Step 00276301; Episode 000920] reward: 2.0   max Q: 0.74346733  ε= 0.7463061037179871  Avg. score: 0.25\n",
      "[Step 00288301; Episode 000960] reward: 0.0   max Q: 0.7727306  ε= 0.7352838814963855  Avg. score: 0.26\n",
      "[Step 00300301; Episode 001000] reward: -1.0   max Q: 0.9703084  ε= 0.7242616592747838  Avg. score: 0.35\n",
      "[Step 00312301; Episode 001040] reward: 0.0   max Q: 1.0977826  ε= 0.7132394370531822  Avg. score: 0.31\n",
      "[Step 00324301; Episode 001080] reward: -1.0   max Q: 1.4364319  ε= 0.7022172148315805  Avg. score: 0.45\n",
      "[Step 00336301; Episode 001120] reward: 1.0   max Q: 0.8960451  ε= 0.6911949926099789  Avg. score: 0.5\n",
      "[Step 00348301; Episode 001160] reward: 2.0   max Q: 0.92002904  ε= 0.6801727703883772  Avg. score: 0.63\n",
      "[Step 00360301; Episode 001200] reward: 2.0   max Q: 1.3269619  ε= 0.6691505481667755  Avg. score: 0.93\n",
      "[Step 00372301; Episode 001240] reward: 1.0   max Q: 1.3306422  ε= 0.6581283259451739  Avg. score: 0.93\n",
      "[Step 00384301; Episode 001280] reward: 1.0   max Q: 1.0129757  ε= 0.6471061037235722  Avg. score: 0.89\n",
      "[Step 00396301; Episode 001320] reward: 0.0   max Q: 1.0544806  ε= 0.6360838815019706  Avg. score: 0.56\n",
      "[Step 00408301; Episode 001360] reward: 1.0   max Q: 1.2337216  ε= 0.6250616592803689  Avg. score: 0.62\n",
      "[Step 00420301; Episode 001400] reward: 0.0   max Q: 1.3899201  ε= 0.6140394370587673  Avg. score: 0.8\n",
      "[Step 00432301; Episode 001440] reward: 2.0   max Q: 1.4825431  ε= 0.6030172148371656  Avg. score: 1.02\n",
      "[Step 00444301; Episode 001480] reward: 2.0   max Q: 1.1331161  ε= 0.591994992615564  Avg. score: 1.05\n",
      "[Step 00456301; Episode 001520] reward: 0.0   max Q: 1.2637968  ε= 0.5809727703939623  Avg. score: 0.92\n",
      "[Step 00468301; Episode 001560] reward: 3.0   max Q: 1.2202823  ε= 0.5699505481723607  Avg. score: 1.07\n",
      "[Step 00480301; Episode 001600] reward: 3.0   max Q: 1.7444259  ε= 0.558928325950759  Avg. score: 1.38\n",
      "[Step 00492301; Episode 001640] reward: 0.0   max Q: 1.9578627  ε= 0.5479061037291574  Avg. score: 1.66\n",
      "[Step 00504301; Episode 001680] reward: 4.0   max Q: 2.012991  ε= 0.5368838815075557  Avg. score: 2.08\n",
      "[Step 00516301; Episode 001720] reward: 5.0   max Q: 2.217937  ε= 0.5258616592859541  Avg. score: 1.98\n",
      "[Step 00528301; Episode 001760] reward: 2.0   max Q: 2.0764048  ε= 0.5148394370643524  Avg. score: 2.11\n",
      "[Step 00540301; Episode 001800] reward: 0.0   max Q: 2.5586178  ε= 0.5038172148427508  Avg. score: 1.92\n",
      "[Step 00552301; Episode 001840] reward: 6.0   max Q: 2.2426813  ε= 0.49279499262071363  Avg. score: 2.17\n",
      "[Step 00564301; Episode 001880] reward: 1.0   max Q: 2.5859432  ε= 0.48177277039844585  Avg. score: 2.41\n",
      "[Step 00576301; Episode 001920] reward: 2.0   max Q: 2.2550159  ε= 0.47075054817617806  Avg. score: 2.56\n",
      "[Step 00588301; Episode 001960] reward: 0.0   max Q: 2.4010036  ε= 0.4597283259539103  Avg. score: 2.48\n",
      "[Step 00600301; Episode 002000] reward: 1.0   max Q: 2.0676966  ε= 0.4487061037316425  Avg. score: 2.15\n",
      "[Step 00612301; Episode 002040] reward: 1.0   max Q: 1.9821028  ε= 0.4376838815093747  Avg. score: 2.12\n",
      "[Step 00624301; Episode 002080] reward: 2.0   max Q: 2.5217378  ε= 0.4266616592871069  Avg. score: 2.4\n",
      "[Step 00636301; Episode 002120] reward: 8.0   max Q: 2.9733558  ε= 0.41563943706483913  Avg. score: 2.71\n",
      "[Step 00648301; Episode 002160] reward: 4.0   max Q: 2.7000306  ε= 0.40461721484257135  Avg. score: 3.01\n",
      "[Step 00660301; Episode 002200] reward: 4.0   max Q: 3.4027114  ε= 0.39359499262030356  Avg. score: 3.1\n",
      "[Step 00672301; Episode 002240] reward: 6.0   max Q: 2.8651814  ε= 0.3825727703980358  Avg. score: 3.11\n",
      "[Step 00684301; Episode 002280] reward: 8.0   max Q: 3.0078435  ε= 0.371550548175768  Avg. score: 3.19\n",
      "[Step 00696301; Episode 002320] reward: 3.0   max Q: 2.9421434  ε= 0.3605283259535002  Avg. score: 3.1\n",
      "[Step 00708301; Episode 002360] reward: 4.0   max Q: 2.9487576  ε= 0.3495061037312324  Avg. score: 3.08\n",
      "[Step 00720301; Episode 002400] reward: 8.0   max Q: 3.5828512  ε= 0.33848388150896463  Avg. score: 3.38\n",
      "[Step 00732301; Episode 002440] reward: 2.0   max Q: 4.456248  ε= 0.32746165928669685  Avg. score: 4.07\n",
      "[Step 00744301; Episode 002480] reward: 4.0   max Q: 3.4887707  ε= 0.31643943706442906  Avg. score: 4.52\n",
      "[Step 00756301; Episode 002520] reward: 6.0   max Q: 3.9754138  ε= 0.3054172148421613  Avg. score: 4.21\n",
      "[Step 00768301; Episode 002560] reward: 4.0   max Q: 3.3401527  ε= 0.2943949926198935  Avg. score: 4.15\n",
      "[Step 00780301; Episode 002600] reward: 0.0   max Q: 3.5421448  ε= 0.2833727703976257  Avg. score: 4.1\n",
      "[Step 00792301; Episode 002640] reward: 3.0   max Q: 3.7520225  ε= 0.2723505481753579  Avg. score: 4.01\n",
      "[Step 00804301; Episode 002680] reward: 9.0   max Q: 3.1545618  ε= 0.26132832595309013  Avg. score: 3.93\n",
      "[Step 00816301; Episode 002720] reward: 4.0   max Q: 3.7141085  ε= 0.25030610373082235  Avg. score: 4.52\n",
      "[Step 00828301; Episode 002760] reward: 2.0   max Q: 3.7254179  ε= 0.23928388150855456  Avg. score: 4.44\n",
      "[Step 00840301; Episode 002800] reward: 4.0   max Q: 4.463083  ε= 0.22826165928628678  Avg. score: 4.66\n",
      "[Step 00852301; Episode 002840] reward: 3.0   max Q: 4.7797236  ε= 0.217239437064019  Avg. score: 5.0\n",
      "[Step 00864301; Episode 002880] reward: 8.0   max Q: 4.5642457  ε= 0.2062172148417512  Avg. score: 5.54\n",
      "[Step 00876301; Episode 002920] reward: 8.0   max Q: 3.7439175  ε= 0.19519499261948342  Avg. score: 5.51\n",
      "[Step 00888301; Episode 002960] reward: 3.0   max Q: 3.322866  ε= 0.18417277039721563  Avg. score: 4.86\n",
      "[Step 00900301; Episode 003000] reward: 5.0   max Q: 4.1654096  ε= 0.17315054817494785  Avg. score: 5.13\n",
      "[Step 00912301; Episode 003040] reward: 8.0   max Q: 4.022519  ε= 0.16212832595268006  Avg. score: 5.3\n",
      "[Step 00924301; Episode 003080] reward: 8.0   max Q: 4.7603197  ε= 0.15110610373041228  Avg. score: 6.03\n",
      "[Step 00936301; Episode 003120] reward: 10.0   max Q: 4.6653104  ε= 0.1400838815081445  Avg. score: 6.18\n",
      "[Step 00948301; Episode 003160] reward: 1.0   max Q: 3.9672213  ε= 0.1290616592858767  Avg. score: 6.27\n",
      "[Step 00960301; Episode 003200] reward: 4.0   max Q: 4.7669597  ε= 0.11803943706360892  Avg. score: 6.15\n",
      "[Step 00972301; Episode 003240] reward: 9.0   max Q: 4.445167  ε= 0.10701721484134114  Avg. score: 6.25\n",
      "[Step 00984301; Episode 003280] reward: 10.0   max Q: 5.039155  ε= 0.09599499261907335  Avg. score: 6.82\n",
      "[Step 00996301; Episode 003320] reward: 4.0   max Q: 4.951373  ε= 0.08497277039680556  Avg. score: 7.3\n",
      "[Step 01008301; Episode 003360] reward: 10.0   max Q: 5.7011714  ε= 0.07395054817453778  Avg. score: 7.66\n",
      "[Step 01020301; Episode 003400] reward: 7.0   max Q: 5.147009  ε= 0.06292832595226999  Avg. score: 7.82\n",
      "[Step 01032301; Episode 003440] reward: 1.0   max Q: 5.4514894  ε= 0.05190610373008224  Avg. score: 7.54\n",
      "[Step 01044301; Episode 003480] reward: 10.0   max Q: 5.425832  ε= 0.04088388150789772  Avg. score: 8.19\n",
      "[Step 01056301; Episode 003520] reward: 14.0   max Q: 4.7191367  ε= 0.029861659285707956  Avg. score: 8.68\n",
      "[Step 01068301; Episode 003560] reward: 10.0   max Q: 4.9027624  ε= 0.018839437063481804  Avg. score: 8.16\n",
      "[Step 01080301; Episode 003600] reward: 1.0   max Q: 5.9054074  ε= 0.007999081507922383  Avg. score: 8.76\n",
      "[Step 01092301; Episode 003640] reward: 4.0   max Q: 5.958706  ε= 0.007999081507922383  Avg. score: 8.92\n",
      "[Step 01104301; Episode 003680] reward: 4.0   max Q: 6.1202354  ε= 0.007999081507922383  Avg. score: 9.86\n",
      "[Step 01116301; Episode 003720] reward: 14.0   max Q: 5.653842  ε= 0.007999081507922383  Avg. score: 9.79\n",
      "[Step 01128301; Episode 003760] reward: 6.0   max Q: 6.019223  ε= 0.007999081507922383  Avg. score: 9.62\n",
      "[Step 01140301; Episode 003800] reward: 6.0   max Q: 4.635744  ε= 0.007999081507922383  Avg. score: 9.08\n",
      "[Step 01152301; Episode 003840] reward: 13.0   max Q: 5.4591556  ε= 0.007999081507922383  Avg. score: 8.83\n",
      "[Step 01164301; Episode 003880] reward: 10.0   max Q: 5.948785  ε= 0.007999081507922383  Avg. score: 9.37\n",
      "[Step 01176301; Episode 003920] reward: 9.0   max Q: 4.6624513  ε= 0.007999081507922383  Avg. score: 8.57\n",
      "[Step 01188301; Episode 003960] reward: 13.0   max Q: 4.8844013  ε= 0.007999081507922383  Avg. score: 8.8\n"
     ]
    }
   ],
   "source": [
    "env = UnityEnvironment(file_name=\"Banana_Windows_x86_64\\\\Banana.exe\")\n",
    "brain_name = env.brain_names[0]\n",
    "brain = env.brains[brain_name]  # Refer to the code \"1. Start the Environment\" above.\n",
    "print('[INFO] Environment initialized.')\n",
    "\n",
    "scores = []\n",
    "steps = 0\n",
    "epsilon = 1\n",
    "epsilon_decay = (1 - EPSILON_LOWER_BOUND) / ((TOTAL_EPISODES * 300) * EPSILON_DECAY_RATIO)\n",
    "avg_reward = collections.deque(maxlen=100)\n",
    "state_data = np.empty([37*4])\n",
    "for e in range(TOTAL_EPISODES):\n",
    "    env_info = env.reset(train_mode=True)[brain_name]\n",
    "    state = env_info.vector_observations[0]\n",
    "    if e is 0:\n",
    "        state_data = np.stack([state, state, state, state]).flatten()\n",
    "    score = 0\n",
    "    while True:\n",
    "        if np.random.rand() <= epsilon:\n",
    "            action = np.random.randint(0, 4)\n",
    "        else:\n",
    "            action = agent.get_action(state_data)\n",
    "        env_info = env.step(int(action))[brain_name]\n",
    "        next_state = env_info.vector_observations[0]\n",
    "        next_state = np.append(next_state, state_data[0:-37])\n",
    "        reward = env_info.rewards[0]\n",
    "        done = env_info.local_done[0]\n",
    "        \n",
    "        agent.append_replay_memory(state_data, action, reward, next_state, done)\n",
    "        \n",
    "        if steps > OBSERVATION_STEP:\n",
    "            agent.train()\n",
    "            agent.update_target_network_smooth()\n",
    "            if epsilon > EPSILON_LOWER_BOUND:\n",
    "                epsilon -= epsilon_decay\n",
    "        score += reward\n",
    "        state_data = next_state\n",
    "        steps += 1\n",
    "        \n",
    "        if done:\n",
    "            scores.append(score)\n",
    "            avg_reward.append(score)\n",
    "            break\n",
    "             \n",
    "    if e % 40 == 0:\n",
    "        max_q = agent.max_q(state_data)\n",
    "        if not e >= 100:\n",
    "            print('[Step ' + str(steps + 1).zfill(8) + '; Episode ' + str(e).zfill(6) + '] reward: ' + str(score),\n",
    "                  \"  max Q: \" + str(max_q) +\n",
    "                  \"  ε= \" + str(epsilon))\n",
    "        else:\n",
    "            print('[Step ' + str(steps + 1).zfill(8) + '; Episode ' + str(e).zfill(6) + '] reward: ' + str(score),\n",
    "                  \"  max Q: \" + str(max_q) +\n",
    "                  \"  ε= \" + str(epsilon) + \n",
    "                 \"  Avg. score: \" + str(np.average(avg_reward)))\n",
    "    \n",
    "   # if e % MODEL_UPDATE_EPISODE == 0:\n",
    "        #agent.update_target_network()\n",
    "    \n",
    "    if len(avg_reward) is 100:\n",
    "        avg = np.average(avg_reward)\n",
    "        if avg > 13:\n",
    "            print(\"[INFO] Training completed. Total episode: \" + str(e))\n",
    "            break\n",
    "\n",
    "with open('save\\\\scores.pickle', 'wb') as f:\n",
    "    pickle.dump(scores, f, pickle.HIGHEST_PROTOCOL)\n",
    "    f.close()\n",
    "\n",
    "agent.save_model('save\\\\model')"
   ]
  },
  {
   "cell_type": "code",
   "execution_count": 7,
   "metadata": {},
   "outputs": [],
   "source": [
    "env.close()"
   ]
  },
  {
   "cell_type": "markdown",
   "metadata": {},
   "source": [
    "### 4-4-2. Evaluate the model"
   ]
  },
  {
   "cell_type": "code",
   "execution_count": null,
   "metadata": {},
   "outputs": [],
   "source": [
    "agent = DQNAgent(state_size=37, action_size=4, build_network=network(), lr=LEARNING_RATE,\n",
    "                discount_factor=DISCOUNT_FACTOR, replay_mem_size=REPLAY_MEMORY_SIZE, batch_size=BATCH_SIZE)\n",
    "agent.restore_model('save\\\\model')\n",
    "env = UnityEnvironment(file_name=\"Banana_Windows_x86_64\\\\Banana.exe\")\n",
    "brain_name = env.brain_names[0]\n",
    "brain = env.brains[brain_name]  # Refer to the code \"1. Start the Environment\" above.\n",
    "print('[INFO] Environment initialized.')\n",
    "\n",
    "steps = 0\n",
    "avg_reward = collections.deque(maxlen=100)\n",
    "for e in range(100):\n",
    "    env_info = env.reset(train_mode=True)[brain_name]\n",
    "    state = env_info.vector_observations[0]\n",
    "    score = 0\n",
    "    while True:\n",
    "        action = agent.get_action(state)\n",
    "        env_info = env.step(int(action))[brain_name]\n",
    "        next_state = env_info.vector_observations[0]\n",
    "        reward = env_info.rewards[0]\n",
    "        done = env_info.local_done[0]\n",
    "        \n",
    "        score += reward\n",
    "        state = next_state\n",
    "        steps += 1\n",
    "        \n",
    "        if done:\n",
    "            avg_reward.append(score)\n",
    "            break\n",
    "             \n",
    "    if e % 20 == 0:\n",
    "            print('Episode ' + str(e).zfill(3) + ' reward: ' + str(score))\n",
    "\n",
    "print(\"Avg(100 episode) score: \" + str(np.average(avg_reward)))"
   ]
  },
  {
   "cell_type": "markdown",
   "metadata": {},
   "source": [
    "### 4-5. Visualising the training progress"
   ]
  },
  {
   "cell_type": "code",
   "execution_count": 8,
   "metadata": {},
   "outputs": [
    {
     "data": {
      "image/png": "[encoded data removed]",
      "text/plain": [
       "<Figure size 432x288 with 1 Axes>"
      ]
     },
     "metadata": {
      "needs_background": "light"
     },
     "output_type": "display_data"
    }
   ],
   "source": [
    "fig, ax = plt.subplots()\n",
    "plt.plot(range(len(scores)), scores)\n",
    "ax.set(xlabel='Episode', ylabel=\"total score\")\n",
    "plt.title(\"Total Reward\")\n",
    "plt.savefig(\"save\\\\reward.png\", dpi=200)"
   ]
  },
  {
   "cell_type": "markdown",
   "metadata": {},
   "source": [
    "## 5. Future work"
   ]
  },
  {
   "cell_type": "markdown",
   "metadata": {},
   "source": [
    "- I'd like to solve this project with other reinforcement learning methods, such as Dueling DQN, Double DQN, DRQN, and so on.\n",
    "- I'd like to use DQN-based network in video game invironment"
   ]
  }
 ],
 "metadata": {
  "kernelspec": {
   "display_name": "RL",
   "language": "python",
   "name": "rl"
  },
  "language_info": {
   "codemirror_mode": {
    "name": "ipython",
    "version": 3
   },
   "file_extension": ".py",
   "mimetype": "text/x-python",
   "name": "python",
   "nbconvert_exporter": "python",
   "pygments_lexer": "ipython3",
   "version": "3.6.6"
  }
 },
 "nbformat": 4,
 "nbformat_minor": 2
}
